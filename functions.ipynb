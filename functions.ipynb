{
 "cells": [
  {
   "cell_type": "markdown",
   "id": "05117d64-09ca-41a1-88e3-ac397fb6692f",
   "metadata": {},
   "source": [
    "# Functions in Python\n",
    "When we create a function in Python we use a word def."
   ]
  },
  {
   "cell_type": "code",
   "execution_count": 1,
   "id": "26630c9d-e56d-44eb-a0ad-e19e78bb61ba",
   "metadata": {
    "tags": []
   },
   "outputs": [],
   "source": [
    "def add(x, y):\n",
    "    return x + y"
   ]
  },
  {
   "cell_type": "markdown",
   "id": "7a5e9aa7-11cf-40eb-933f-e6cd87f6a755",
   "metadata": {},
   "source": [
    "We use parentheses to call the function."
   ]
  },
  {
   "cell_type": "code",
   "execution_count": 2,
   "id": "88f1eaed-f03e-4b85-ad9f-54740e784cc5",
   "metadata": {
    "tags": []
   },
   "outputs": [
    {
     "data": {
      "text/plain": [
       "823"
      ]
     },
     "execution_count": 2,
     "metadata": {},
     "output_type": "execute_result"
    }
   ],
   "source": [
    "add(145, 678)"
   ]
  }
 ],
 "metadata": {
  "kernelspec": {
   "display_name": "Python 3",
   "language": "python",
   "name": "python3"
  },
  "language_info": {
   "codemirror_mode": {
    "name": "ipython",
    "version": 3
   },
   "file_extension": ".py",
   "mimetype": "text/x-python",
   "name": "python",
   "nbconvert_exporter": "python",
   "pygments_lexer": "ipython3",
   "version": "3.11.1 (tags/v3.11.1:a7a450f, Dec  6 2022, 19:58:39) [MSC v.1934 64 bit (AMD64)]"
  },
  "vscode": {
   "interpreter": {
    "hash": "08304a59602ed631c38ffba5ce189a1b86501055c4cbc57919560bb0238cc9cf"
   }
  }
 },
 "nbformat": 4,
 "nbformat_minor": 5
}
